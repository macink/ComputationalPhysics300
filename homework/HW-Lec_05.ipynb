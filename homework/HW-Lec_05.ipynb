{
 "cells": [
  {
   "cell_type": "code",
   "execution_count": 21,
   "metadata": {},
   "outputs": [
    {
     "name": "stdout",
     "output_type": "stream",
     "text": [
      "Analytically, the sum of the areas is 7.5\n"
     ]
    }
   ],
   "source": [
    "#Calculate the integrals using rectangles, trapezoid rule, and \n",
    "#Simpson's Rule\n",
    "\n",
    "\n",
    "#For function x^2 - x + 1, integrate from 0 to 3\n",
    "\n",
    "import numpy as np\n",
    "import matplotlib.pyplot as plt\n",
    "\n",
    "\n",
    "def R_Sum1(begin, end, partitions, plot=1):\n",
    "    '''\n",
    "    Approximates area under curve using left rectangles\n",
    "    '''\n",
    "    f = lambda x: x**2 - x + 1\n",
    "    \n",
    "    dx = (end - begin)/partitions           #small change in x\n",
    "    X = np.linspace(begin, end, partitions) #array for x values\n",
    "    Y = f(X)                                #plug x values into function\n",
    "    \n",
    "    area = np.zeros([partitions],float)     #array to store areas of each rectangle\n",
    "    #Calculation for each rectangle\n",
    "    for i in range(partitions-1):\n",
    "        area[i] = Y[i]*dx                   \n",
    "    #To make plot\n",
    "    if plot==1:\n",
    "        xo = np.linspace(begin,end,100) #array for x values on plot\n",
    "        yo = f(xo)\n",
    "        plt.plot(xo, yo, 'r')\n",
    "        plt.bar(X + dx/2, Y, dx, edgecolor='black')\n",
    "        plt.show()\n",
    "        print(\"The sum of the area under the curve is: \", sum(area))\n",
    "        \n",
    "    return sum(area)\n",
    "\n",
    "\n",
    "\n",
    "\n",
    "def Trap_Rule1(begin, end, partitions, plot=1):\n",
    "    '''\n",
    "    Approximates the area under the curve using trapezoid rule\n",
    "    '''\n",
    "    f = lambda x: x**2 - x + 1\n",
    "    \n",
    "    dx = (end - begin)/ partitions\n",
    "    X = np.linspace(begin, end, partitions+1) #array for x values\n",
    "    Y = f(X)\n",
    "    \n",
    "    area = np.zeros([partitions],float)\n",
    "    #to calculate the area of each trapezoid\n",
    "    for i in range(partitions):\n",
    "        area[i] = (Y[i-1] + Y[i]) * dx/2 \n",
    "    #To make the plot\n",
    "    if plot==1:\n",
    "        xo = np.linspace(begin, end, 100) #array for x values on plot\n",
    "        yo = f(xo)\n",
    "        plt.plot(xo, yo, 'r')\n",
    "        plt.xlim([begin,end]) #limits on x axis\n",
    "        \n",
    "        y2 = np.array([0,0])\n",
    "        for i in range(partitions):\n",
    "            x1 = X[i:i+2]\n",
    "            y1 = Y[i:i+2]\n",
    "            plt.fill_between(x1, y1, y2, where=y1>y2, facecolor='blue')\n",
    "            line_x, line_y = [X[i+1], X[i+1]], [0, Y[i+1]]\n",
    "            plt.plot(line_x, line_y, color='black', linewidth=2.0)\n",
    "        plt.show()\n",
    "        print(\"The sum of the area under the curve is: \", sum(area))\n",
    "            \n",
    "    return sum(area)\n",
    "    \n",
    "    \n",
    "    \n",
    "def Simpson1(begin, end, partitions, plot=1):\n",
    "    '''\n",
    "    Approximates the area under the curve using series expansion\n",
    "    '''\n",
    "    f = lambda x: x**2 - x + 1\n",
    "    \n",
    "    dx = (end - begin)/partitions\n",
    "    X = np.linspace(begin, end, partitions+1)\n",
    "    Y = f(X)\n",
    "    \n",
    "    area = np.zeros([partitions+1],float)\n",
    "    for i in range (partitions+1):\n",
    "        if i==0 or i==partitions:\n",
    "            coef = 1/3\n",
    "        elif i%2 == 1:\n",
    "            coef = 2/3\n",
    "        else:\n",
    "            coef = 4/3\n",
    "        area[i] = coef * Y[i] * dx\n",
    "    \n",
    "    if plot==1:\n",
    "        xo = np.linspace(begin, end, 100)\n",
    "        yo = f(xo)\n",
    "        plt.plot(xo, yo, 'r')\n",
    "        \n",
    "        plt.xlim([begin,end])\n",
    "        plt.ylim([min(yo),max(yo)])\n",
    "        plt.show()\n",
    "        print(\"The sum of the area under the curve is: \", sum(area))\n",
    "        \n",
    "    return sum(area)\n",
    "    \n",
    "    \n",
    "print(\"Analytically, the sum of the areas is 7.5\")"
   ]
  },
  {
   "cell_type": "code",
   "execution_count": 34,
   "metadata": {},
   "outputs": [
    {
     "data": {
      "image/png": "[encoded data removed]",
      "text/plain": [
       "<Figure size 432x288 with 1 Axes>"
      ]
     },
     "metadata": {
      "needs_background": "light"
     },
     "output_type": "display_data"
    },
    {
     "name": "stdout",
     "output_type": "stream",
     "text": [
      "The sum of the area under the curve is:  7.335454545454545\n"
     ]
    },
    {
     "data": {
      "text/plain": [
       "7.335454545454545"
      ]
     },
     "execution_count": 34,
     "metadata": {},
     "output_type": "execute_result"
    }
   ],
   "source": [
    "R_Sum1(0,3,100)"
   ]
  },
  {
   "cell_type": "code",
   "execution_count": 3,
   "metadata": {
    "scrolled": true
   },
   "outputs": [
    {
     "data": {
      "image/png": "[encoded data removed]",
      "text/plain": [
       "<Figure size 432x288 with 1 Axes>"
      ]
     },
     "metadata": {
      "needs_background": "light"
     },
     "output_type": "display_data"
    },
    {
     "name": "stdout",
     "output_type": "stream",
     "text": [
      "The sum of the area under the curve is:  7.412686500000001\n"
     ]
    },
    {
     "data": {
      "text/plain": [
       "7.412686500000001"
      ]
     },
     "execution_count": 3,
     "metadata": {},
     "output_type": "execute_result"
    }
   ],
   "source": [
    "Trap_Rule1(0,3,100)"
   ]
  },
  {
   "cell_type": "code",
   "execution_count": 22,
   "metadata": {},
   "outputs": [
    {
     "data": {
      "image/png": "[encoded data removed]",
      "text/plain": [
       "<Figure size 432x288 with 1 Axes>"
      ]
     },
     "metadata": {
      "needs_background": "light"
     },
     "output_type": "display_data"
    },
    {
     "name": "stdout",
     "output_type": "stream",
     "text": [
      "The sum of the area under the curve is:  7.420899999999999\n"
     ]
    },
    {
     "data": {
      "text/plain": [
       "7.420899999999999"
      ]
     },
     "execution_count": 22,
     "metadata": {},
     "output_type": "execute_result"
    }
   ],
   "source": [
    "Simpson1(0,3,100)"
   ]
  },
  {
   "cell_type": "code",
   "execution_count": 23,
   "metadata": {},
   "outputs": [
    {
     "name": "stdout",
     "output_type": "stream",
     "text": [
      "Analytically the sum of the areas is 47.1\n"
     ]
    }
   ],
   "source": [
    "#For function x^4 - x + 1 from 0 to 3\n",
    "\n",
    "import numpy as np\n",
    "import matplotlib.pyplot as plt\n",
    "\n",
    "\n",
    "def R_Sum2(begin, end, partitions, plot=1):\n",
    "    '''\n",
    "    Approximates the area under the curve using rectangles\n",
    "    '''\n",
    "    f = lambda x: x**4 - x + 1\n",
    "    \n",
    "    dx = (end - begin)/partitions\n",
    "    X = np.linspace(begin, end, partitions)\n",
    "    Y = f(X)\n",
    "    \n",
    "    area = np.zeros([partitions], float)\n",
    "    \n",
    "    for i in range(partitions-1):\n",
    "        area[i] = Y[i] * dx\n",
    "        \n",
    "    if plot==1:\n",
    "        xo = np.linspace(begin, end, 100)\n",
    "        yo = f(xo)\n",
    "        plt.plot(xo, yo, 'r')\n",
    "        plt.bar(X + dx/2, Y, dx, edgecolor='black')\n",
    "        plt.show()\n",
    "        print(\"The sum of the area under the curve is: \", sum(area))\n",
    "        \n",
    "    return sum(area)\n",
    "\n",
    "\n",
    "\n",
    "def Trap_Rule2(begin, end, partitions, plot=1):\n",
    "    '''\n",
    "    Approximates the area under the curve using trapezoid rule\n",
    "    '''\n",
    "    f = lambda x: x**4 - x + 1\n",
    "    \n",
    "    dx = (end - begin)/ partitions\n",
    "    X = np.linspace(begin, end, partitions+1) #array for x values\n",
    "    Y = f(X)\n",
    "    \n",
    "    area = np.zeros([partitions],float)\n",
    "    #to calculate the area of each trapezoid\n",
    "    for i in range(partitions):\n",
    "        area[i] = (Y[i-1] + Y[i]) * dx / 2 \n",
    "    #To make the plot\n",
    "    if plot==1:\n",
    "        xo = np.linspace(begin, end, 100) #array for x values on plot\n",
    "        yo = f(xo)\n",
    "        plt.plot(xo, yo, 'r')\n",
    "        plt.xlim([begin,end]) #limits on x axis\n",
    "        \n",
    "        y2 = np.array([0,0])\n",
    "        for i in range(partitions):\n",
    "            x1 = X[i:i+2]\n",
    "            y1 = Y[i:i+2]\n",
    "            plt.fill_between(x1, y1, y2, where=y1>y2, facecolor='blue')\n",
    "            line_x, line_y = [X[i+1], X[i+1]], [0, Y[i+1]]\n",
    "            plt.plot(line_x, line_y, color='black', linewidth=2.0)\n",
    "        plt.show()\n",
    "        print(\"The sum of the area under the curve is: \", sum(area))\n",
    "            \n",
    "    return sum(area)\n",
    "\n",
    "\n",
    "\n",
    "def Simpson2(begin, end, partitions, plot=1):\n",
    "    '''\n",
    "    Approximates the area under the curve using series expansion\n",
    "    '''\n",
    "    f = lambda x: x**4 - x + 1\n",
    "    \n",
    "    dx = (end - begin)/partitions\n",
    "    X = np.linspace(begin, end, partitions+1)\n",
    "    Y = f(X)\n",
    "    \n",
    "    area = np.zeros([partitions+1],float)\n",
    "    for i in range (partitions+1):\n",
    "        if i==0 or i==partitions:\n",
    "            coef = 1/3\n",
    "        elif i%2 == 1:\n",
    "            coef = 2/3\n",
    "        else:\n",
    "            coef = 4/3\n",
    "        area[i] = coef * Y[i] * dx\n",
    "    \n",
    "    if plot==1:\n",
    "        xo = np.linspace(begin, end, 100)\n",
    "        yo = f(xo)\n",
    "        plt.plot(xo, yo, 'r')\n",
    "        \n",
    "        plt.xlim([begin,end])\n",
    "        plt.ylim([min(yo),max(yo)])\n",
    "        plt.show()\n",
    "        print(\"The sum of the area under the curve is: \", sum(area))\n",
    "        \n",
    "    return sum(area)\n",
    "\n",
    "print(\"Analytically the sum of the areas is 47.1\")"
   ]
  },
  {
   "cell_type": "code",
   "execution_count": 24,
   "metadata": {
    "scrolled": false
   },
   "outputs": [
    {
     "data": {
      "image/png": "[encoded data removed]",
      "text/plain": [
       "<Figure size 432x288 with 1 Axes>"
      ]
     },
     "metadata": {
      "needs_background": "light"
     },
     "output_type": "display_data"
    },
    {
     "name": "stdout",
     "output_type": "stream",
     "text": [
      "The sum of the area under the curve is:  45.467181734702386\n"
     ]
    },
    {
     "data": {
      "text/plain": [
       "45.467181734702386"
      ]
     },
     "execution_count": 24,
     "metadata": {},
     "output_type": "execute_result"
    }
   ],
   "source": [
    "R_Sum2(0,3,100)"
   ]
  },
  {
   "cell_type": "code",
   "execution_count": 25,
   "metadata": {
    "scrolled": true
   },
   "outputs": [
    {
     "data": {
      "image/png": "[encoded data removed]",
      "text/plain": [
       "<Figure size 432x288 with 1 Axes>"
      ]
     },
     "metadata": {
      "needs_background": "light"
     },
     "output_type": "display_data"
    },
    {
     "name": "stdout",
     "output_type": "stream",
     "text": [
      "The sum of the area under the curve is:  45.985525766849996\n"
     ]
    },
    {
     "data": {
      "text/plain": [
       "45.985525766849996"
      ]
     },
     "execution_count": 25,
     "metadata": {},
     "output_type": "execute_result"
    }
   ],
   "source": [
    "Trap_Rule2(0,3,100)"
   ]
  },
  {
   "cell_type": "code",
   "execution_count": 26,
   "metadata": {},
   "outputs": [
    {
     "data": {
      "image/png": "[encoded data removed]",
      "text/plain": [
       "<Figure size 432x288 with 1 Axes>"
      ]
     },
     "metadata": {
      "needs_background": "light"
     },
     "output_type": "display_data"
    },
    {
     "name": "stdout",
     "output_type": "stream",
     "text": [
      "The sum of the area under the curve is:  46.31619951399998\n"
     ]
    },
    {
     "data": {
      "text/plain": [
       "46.31619951399998"
      ]
     },
     "execution_count": 26,
     "metadata": {},
     "output_type": "execute_result"
    }
   ],
   "source": [
    "Simpson2(0,3,100)"
   ]
  },
  {
   "cell_type": "code",
   "execution_count": 31,
   "metadata": {},
   "outputs": [
    {
     "name": "stdout",
     "output_type": "stream",
     "text": [
      "Analytically the sum of the areas is 0.95\n"
     ]
    }
   ],
   "source": [
    "#For function exp(-x^2) from 0 to 3\n",
    "\n",
    "import numpy as np\n",
    "import matplotlib.pyplot as plt\n",
    "\n",
    "\n",
    "def R_Sum3(begin, end, partitions, plot=1):\n",
    "    '''\n",
    "    Approximates the area under the curve using rectangles\n",
    "    '''\n",
    "    f = lambda x: np.exp(-x**2)\n",
    "    \n",
    "    dx = (end - begin) / partitions\n",
    "    X = np.linspace(begin, end, partitions)\n",
    "    Y = f(X)\n",
    "    \n",
    "    area = np.zeros([partitions], float)\n",
    "    for i in range(partitions-1):\n",
    "        area[i] = Y[i] * dx\n",
    "        \n",
    "    if plot==1:\n",
    "        xo = np.linspace(begin, end, partitions)\n",
    "        yo = f(xo)\n",
    "        plt.plot(xo, yo, 'r')\n",
    "        plt.bar(X + dx/2, Y, dx, edgecolor='black')\n",
    "        print(\"The sum of the area under the curve is: \", sum(area))\n",
    "        \n",
    "    return sum(area)\n",
    "\n",
    "\n",
    "\n",
    "def Trap_Rule3(begin, end, partitions, plot=1):\n",
    "    '''\n",
    "    Approximates the area under the curve using trapezoid rule\n",
    "    '''\n",
    "    f = lambda x: np.exp(-x**2)\n",
    "    \n",
    "    dx = (end - begin)/ partitions\n",
    "    X = np.linspace(begin, end, partitions+1) #array for x values\n",
    "    Y = f(X)\n",
    "    \n",
    "    area = np.zeros([partitions],float)\n",
    "    #to calculate the area of each trapezoid\n",
    "    for i in range(partitions):\n",
    "        area[i] = (Y[i-1] + Y[i]) * dx / 2 \n",
    "    #To make the plot\n",
    "    if plot==1:\n",
    "        xo = np.linspace(begin, end, 100) #array for x values on plot\n",
    "        yo = f(xo)\n",
    "        plt.plot(xo, yo, 'r')\n",
    "        plt.xlim([begin,end]) #limits on x axis\n",
    "        \n",
    "        y2 = np.array([0,0])\n",
    "        for i in range(partitions):\n",
    "            x1 = X[i:i+2]\n",
    "            y1 = Y[i:i+2]\n",
    "            plt.fill_between(x1, y1, y2, where=y1>y2, facecolor='blue')\n",
    "            line_x, line_y = [X[i+1], X[i+1]], [0, Y[i+1]]\n",
    "            plt.plot(line_x, line_y, color='black', linewidth=2.0)\n",
    "        plt.show()\n",
    "        print(\"The sum of the area under the curve is: \", sum(area))\n",
    "            \n",
    "    return sum(area)\n",
    "\n",
    "\n",
    "\n",
    "def Simpson3(begin, end, partitions, plot=1):\n",
    "    '''\n",
    "    Approximates the area under the curve using series expansion\n",
    "    '''\n",
    "    f = lambda x: np.exp(-x**2)\n",
    "    \n",
    "    dx = (end - begin)/partitions\n",
    "    X = np.linspace(begin, end, partitions+1)\n",
    "    Y = f(X)\n",
    "    \n",
    "    area = np.zeros([partitions+1],float)\n",
    "    for i in range (partitions+1):\n",
    "        if i==0 or i==partitions:\n",
    "            coef = 1/3\n",
    "        elif i%2 == 1:\n",
    "            coef = 2/3\n",
    "        else:\n",
    "            coef = 4/3\n",
    "        area[i] = coef * Y[i] * dx\n",
    "    \n",
    "    if plot==1:\n",
    "        xo = np.linspace(begin, end, 100)\n",
    "        yo = f(xo)\n",
    "        plt.plot(xo, yo, 'r')\n",
    "        \n",
    "        plt.xlim([begin,end])\n",
    "        plt.ylim([min(yo),max(yo)])\n",
    "        plt.show()\n",
    "        print(\"The sum of the area under the curve is: \", sum(area))\n",
    "        \n",
    "    return sum(area)\n",
    "\n",
    "\n",
    "print(\"Analytically the sum of the areas is 0.95\")"
   ]
  },
  {
   "cell_type": "code",
   "execution_count": 28,
   "metadata": {},
   "outputs": [
    {
     "name": "stdout",
     "output_type": "stream",
     "text": [
      "The sum of the area under the curve is:  0.8923433675602424\n"
     ]
    },
    {
     "data": {
      "text/plain": [
       "0.8923433675602424"
      ]
     },
     "execution_count": 28,
     "metadata": {},
     "output_type": "execute_result"
    },
    {
     "data": {
      "image/png": "[encoded data removed]",
      "text/plain": [
       "<Figure size 432x288 with 1 Axes>"
      ]
     },
     "metadata": {
      "needs_background": "light"
     },
     "output_type": "display_data"
    }
   ],
   "source": [
    "R_Sum3(0,3,100)"
   ]
  },
  {
   "cell_type": "code",
   "execution_count": 29,
   "metadata": {},
   "outputs": [
    {
     "data": {
      "image/png": "[encoded data removed]",
      "text/plain": [
       "<Figure size 432x288 with 1 Axes>"
      ]
     },
     "metadata": {
      "needs_background": "light"
     },
     "output_type": "display_data"
    },
    {
     "name": "stdout",
     "output_type": "stream",
     "text": [
      "The sum of the area under the curve is:  0.9012050785183906\n"
     ]
    },
    {
     "data": {
      "text/plain": [
       "0.9012050785183906"
      ]
     },
     "execution_count": 29,
     "metadata": {},
     "output_type": "execute_result"
    }
   ],
   "source": [
    "Trap_Rule3(0,3,100)"
   ]
  },
  {
   "cell_type": "code",
   "execution_count": 32,
   "metadata": {},
   "outputs": [
    {
     "data": {
      "image/png": "[encoded data removed]",
      "text/plain": [
       "<Figure size 432x288 with 1 Axes>"
      ]
     },
     "metadata": {
      "needs_background": "light"
     },
     "output_type": "display_data"
    },
    {
     "name": "stdout",
     "output_type": "stream",
     "text": [
      "The sum of the area under the curve is:  0.8762097055364726\n"
     ]
    },
    {
     "data": {
      "text/plain": [
       "0.8762097055364726"
      ]
     },
     "execution_count": 32,
     "metadata": {},
     "output_type": "execute_result"
    }
   ],
   "source": [
    "Simpson3(0,3,100)"
   ]
  },
  {
   "cell_type": "code",
   "execution_count": null,
   "metadata": {},
   "outputs": [],
   "source": []
  }
 ],
 "metadata": {
  "kernelspec": {
   "display_name": "Python 3",
   "language": "python",
   "name": "python3"
  },
  "language_info": {
   "codemirror_mode": {
    "name": "ipython",
    "version": 3
   },
   "file_extension": ".py",
   "mimetype": "text/x-python",
   "name": "python",
   "nbconvert_exporter": "python",
   "pygments_lexer": "ipython3",
   "version": "3.8.3"
  }
 },
 "nbformat": 4,
 "nbformat_minor": 4
}

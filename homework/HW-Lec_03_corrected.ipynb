{
 "cells": [
  {
   "cell_type": "code",
   "execution_count": 1,
   "metadata": {},
   "outputs": [
    {
     "data": {
      "image/png": "[encoded data removed]",
      "text/plain": [
       "<Figure size 432x288 with 1 Axes>"
      ]
     },
     "metadata": {
      "needs_background": "light"
     },
     "output_type": "display_data"
    }
   ],
   "source": [
    "from math import log, exp\n",
    "import matplotlib.pyplot as plt\n",
    "\n",
    "#Program to plot relation between multiplicity and qa\n",
    "def factorial(N):\n",
    "    '''\n",
    "    Function to calculate factorial\n",
    "    '''\n",
    "    N = int(N)\n",
    "    total = 1\n",
    "    for i in range(2,N+1):\n",
    "        total *= i\n",
    "    return total\n",
    "\n",
    "def multiplicity(N,q):\n",
    "    '''\n",
    "    Function to calculate multiplicity\n",
    "    '''\n",
    "    return exp(log(factorial(q + N - 1)) - log(factorial (q))\n",
    "        -log(factorial (N-1)))\n",
    "\n",
    "\n",
    "Na = 300                 #Fixed number of oscillators for A\n",
    "Nb = 200                 #Fixed number of oscillators for B\n",
    "q_total = 100            #total q = qa + qb\n",
    "omega_total = []         #empty set to store values for total omega\n",
    "qa_list = range(q_total) #makes a list of values from 0-100 for qa\n",
    "\n",
    "for qa in qa_list:\n",
    "    qb = q_total - qa\n",
    "    omegaA = multiplicity(Na,qa)\n",
    "    omegaB = multiplicity(Nb,qb)\n",
    "    omega_total.append(omegaA*omegaB) #total multiplicity\n",
    "    \n",
    "plt.plot(qa_list,omega_total)\n",
    "plt.xlabel('$q_a$')\n",
    "plt.ylabel('$\\omega$')\n",
    "\n",
    "plt.show()"
   ]
  },
  {
   "cell_type": "code",
   "execution_count": null,
   "metadata": {},
   "outputs": [],
   "source": []
  }
 ],
 "metadata": {
  "kernelspec": {
   "display_name": "Python 3",
   "language": "python",
   "name": "python3"
  },
  "language_info": {
   "codemirror_mode": {
    "name": "ipython",
    "version": 3
   },
   "file_extension": ".py",
   "mimetype": "text/x-python",
   "name": "python",
   "nbconvert_exporter": "python",
   "pygments_lexer": "ipython3",
   "version": "3.8.3"
  }
 },
 "nbformat": 4,
 "nbformat_minor": 4
}

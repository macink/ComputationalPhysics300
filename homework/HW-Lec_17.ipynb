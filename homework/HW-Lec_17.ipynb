{
 "cells": [
  {
   "cell_type": "code",
   "execution_count": 9,
   "metadata": {},
   "outputs": [
    {
     "data": {
      "image/png": "[encoded data removed]",
      "text/plain": [
       "<Figure size 432x288 with 1 Axes>"
      ]
     },
     "metadata": {
      "needs_background": "light"
     },
     "output_type": "display_data"
    },
    {
     "name": "stdout",
     "output_type": "stream",
     "text": [
      "minimum energy:  -2.9998650296000307\n"
     ]
    }
   ],
   "source": [
    "#program to find the ground state of Lennard-Jones potential\n",
    "\n",
    "import numpy as np\n",
    "import matplotlib.pyplot as plt\n",
    "\n",
    "def LJ(r, epsilon=1.0, sigma=1.0):\n",
    "    '''\n",
    "    function to calculate the Lennard-Jones potential\n",
    "    the minimum energy configuration of the three atoms\n",
    "    '''\n",
    "    N = 3              #number of atoms\n",
    "    r6 = r**6          #attractive\n",
    "    r12 = r6**2        #repulsive\n",
    "    sigma6 = sigma**6\n",
    "    sigma12 = sigma6**2\n",
    "    #so we want the potetial (V) 3 times since there are 3 pairs\n",
    "    V = (4*epsilon*((sigma12/r12)-(sigma6/r6)))*N\n",
    "    \n",
    "    return V\n",
    "\n",
    "r = np.linspace(1.0,5.0,100)\n",
    "plt.plot(r, LJ(r))\n",
    "plt.show()\n",
    "\n",
    "print('minimum energy: ', min(LJ(r)))"
   ]
  },
  {
   "cell_type": "code",
   "execution_count": null,
   "metadata": {},
   "outputs": [],
   "source": []
  }
 ],
 "metadata": {
  "kernelspec": {
   "display_name": "Python 3",
   "language": "python",
   "name": "python3"
  },
  "language_info": {
   "codemirror_mode": {
    "name": "ipython",
    "version": 3
   },
   "file_extension": ".py",
   "mimetype": "text/x-python",
   "name": "python",
   "nbconvert_exporter": "python",
   "pygments_lexer": "ipython3",
   "version": "3.8.3"
  }
 },
 "nbformat": 4,
 "nbformat_minor": 4
}

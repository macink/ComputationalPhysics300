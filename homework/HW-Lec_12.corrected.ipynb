{
 "cells": [
  {
   "cell_type": "code",
   "execution_count": 2,
   "metadata": {},
   "outputs": [],
   "source": [
    "#Importance Sampling Method\n",
    "\n",
    "import numpy as np\n",
    "from random import random\n",
    "from scipy.integrate import quad\n",
    "\n",
    "def f(x):\n",
    "    '''\n",
    "    function that I want to integrate\n",
    "    '''\n",
    "    return 1/np.sqrt(x)/(np.exp(x)+1)\n",
    "\n",
    "def w(x):\n",
    "    '''\n",
    "    weight function\n",
    "    '''\n",
    "    return 1/np.sqrt(x)\n",
    "\n",
    "def p(x):\n",
    "    '''\n",
    "    probability function\n",
    "    '''\n",
    "    #since g(x) = integral of p(x)g(x)\n",
    "    #g = integral 1/2sqrt(x) \n",
    "    #  = sqrt(x) from 0 to F\n",
    "    #g = F(sqrt(g))\n",
    "    #square both sides\n",
    "    #F = g^2\n",
    "    return x**2\n",
    "    \n",
    "def IM_1(N):\n",
    "    '''\n",
    "    function to calculate the value of an integral using the\n",
    "    Importance Sampling Method\n",
    "    '''\n",
    "    a = quad(w, 0, 1)[0] #integral of weighted function\n",
    "    I = 0\n",
    "    for i in range(N):\n",
    "        '''\n",
    "        loop to go through random number points\n",
    "        '''\n",
    "        x = random()\n",
    "        y = p(x)\n",
    "        I += f(y)/w(y) #the weighted average\n",
    "    return I/N*a"
   ]
  },
  {
   "cell_type": "code",
   "execution_count": 7,
   "metadata": {},
   "outputs": [
    {
     "data": {
      "text/plain": [
       "0.8390925554722154"
      ]
     },
     "execution_count": 7,
     "metadata": {},
     "output_type": "execute_result"
    }
   ],
   "source": [
    "IM_1(1000000)"
   ]
  },
  {
   "cell_type": "code",
   "execution_count": 8,
   "metadata": {},
   "outputs": [
    {
     "data": {
      "text/plain": [
       "0.8389329600133838"
      ]
     },
     "execution_count": 8,
     "metadata": {},
     "output_type": "execute_result"
    }
   ],
   "source": [
    "#Lets check how accurate it is using scipy integrate\n",
    "quad(f,0,1)[0]"
   ]
  },
  {
   "cell_type": "code",
   "execution_count": 3,
   "metadata": {},
   "outputs": [
    {
     "data": {
      "image/png": "[encoded data removed]",
      "text/plain": [
       "<Figure size 432x288 with 1 Axes>"
      ]
     },
     "metadata": {
      "needs_background": "light"
     },
     "output_type": "display_data"
    },
    {
     "data": {
      "text/plain": [
       "'\\nsince this plot looks like w we know we chose the right \\nF inverse function\\n'"
      ]
     },
     "execution_count": 3,
     "metadata": {},
     "output_type": "execute_result"
    }
   ],
   "source": [
    "import matplotlib.pyplot as plt\n",
    "\n",
    "res = []\n",
    "w = lambda x: 1/np.sqrt(x)\n",
    "for i in range(1000):\n",
    "    x = random()\n",
    "    res.append(x*x)\n",
    "plt.hist(res, bins=100)\n",
    "plt.plot(w(x), 'r')\n",
    "plt.show()\n",
    "\n",
    "'''\n",
    "since this plot looks like w we know we chose the right \n",
    "F inverse function\n",
    "'''"
   ]
  },
  {
   "cell_type": "code",
   "execution_count": 24,
   "metadata": {},
   "outputs": [],
   "source": [
    "def f2(x):\n",
    "    '''\n",
    "    function that I want to integrate\n",
    "    '''\n",
    "    return 1/x / (np.exp(x)+1)\n",
    "\n",
    "def w2(x):\n",
    "    '''\n",
    "    weight function\n",
    "    '''\n",
    "    return 1/x\n",
    "\n",
    "def p2(x):\n",
    "    '''\n",
    "    probability function\n",
    "    '''\n",
    "    #since g(x) = integral of p(x)g(x)\n",
    "    #g = integral (0)* x**-1\n",
    "    #using table of integrals = (0)*ln|x| from 0 to F\n",
    "    #g = (0)*F(ln(g))\n",
    "    #F = (0)*e^g\n",
    "    #I used 10**-100 to simulate zero \n",
    "    #since we cant actually calculate with zero\n",
    "    return (1e-100)*np.exp(x)\n",
    "\n",
    "def IM_2(N):\n",
    "    '''\n",
    "    function to calculate the value of an integral using the\n",
    "    Importance Sampling Method\n",
    "    '''\n",
    "    g2 = quad(w2, 0, 1)[0] #integral of weighted function\n",
    "    I = 0\n",
    "    for i in range(N):\n",
    "        '''\n",
    "        loop to go through random number points\n",
    "        '''\n",
    "        x = random()\n",
    "        y = p2(x)\n",
    "        I += f2(y)/w2(y) #the weighted average\n",
    "    return I/N*g2"
   ]
  },
  {
   "cell_type": "code",
   "execution_count": 25,
   "metadata": {},
   "outputs": [
    {
     "name": "stderr",
     "output_type": "stream",
     "text": [
      "<ipython-input-24-bac8f90e77d6>:30: IntegrationWarning: The maximum number of subdivisions (50) has been achieved.\n",
      "  If increasing the limit yields no improvement it is advised to analyze \n",
      "  the integrand in order to determine the difficulties.  If the position of a \n",
      "  local difficulty can be determined (singularity, discontinuity) one will \n",
      "  probably gain from splitting up the interval and calling the integrator \n",
      "  on the subranges.  Perhaps a special-purpose integrator should be used.\n",
      "  g2 = quad(w2, 0, 1)[0] #integral of weighted function\n"
     ]
    },
    {
     "data": {
      "text/plain": [
       "20.838420337694046"
      ]
     },
     "execution_count": 25,
     "metadata": {},
     "output_type": "execute_result"
    }
   ],
   "source": [
    "IM_2(10000)"
   ]
  },
  {
   "cell_type": "code",
   "execution_count": 12,
   "metadata": {},
   "outputs": [
    {
     "name": "stderr",
     "output_type": "stream",
     "text": [
      "<ipython-input-12-7007f79e50d1>:1: IntegrationWarning: The maximum number of subdivisions (50) has been achieved.\n",
      "  If increasing the limit yields no improvement it is advised to analyze \n",
      "  the integrand in order to determine the difficulties.  If the position of a \n",
      "  local difficulty can be determined (singularity, discontinuity) one will \n",
      "  probably gain from splitting up the interval and calling the integrator \n",
      "  on the subranges.  Perhaps a special-purpose integrator should be used.\n",
      "  quad(f2,0,1)[0]\n"
     ]
    },
    {
     "data": {
      "text/plain": [
       "20.594976039904015"
      ]
     },
     "execution_count": 12,
     "metadata": {},
     "output_type": "execute_result"
    }
   ],
   "source": [
    "#use scipy integrate function to check accuracy\n",
    "quad(f2,0,1)[0]"
   ]
  },
  {
   "cell_type": "code",
   "execution_count": 4,
   "metadata": {},
   "outputs": [
    {
     "data": {
      "image/png": "[encoded data removed]",
      "text/plain": [
       "<Figure size 432x288 with 1 Axes>"
      ]
     },
     "metadata": {
      "needs_background": "light"
     },
     "output_type": "display_data"
    }
   ],
   "source": [
    "res2 = []\n",
    "w3 = lambda x: 1/x\n",
    "for i in range(1000):\n",
    "    x = random()\n",
    "    res2.append((1e-100)*np.exp(x))\n",
    "plt.hist(res2, bins=100)\n",
    "plt.plot(w3(x), 'r')\n",
    "plt.show()\n",
    "'''\n",
    "this plot looks similar to 1/x\n",
    "'''"
   ]
  }
 ],
 "metadata": {
  "kernelspec": {
   "display_name": "Python 3",
   "language": "python",
   "name": "python3"
  },
  "language_info": {
   "codemirror_mode": {
    "name": "ipython",
    "version": 3
   },
   "file_extension": ".py",
   "mimetype": "text/x-python",
   "name": "python",
   "nbconvert_exporter": "python",
   "pygments_lexer": "ipython3",
   "version": "3.8.3"
  }
 },
 "nbformat": 4,
 "nbformat_minor": 4
}

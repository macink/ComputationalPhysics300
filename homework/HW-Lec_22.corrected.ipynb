{
 "cells": [
  {
   "cell_type": "markdown",
   "metadata": {},
   "source": [
    "# Lec 22 Homework\n",
    "\n",
    "Choose a dataset from UC Irvine Machine Learning Repository! and apply the Kneighbour algorithm to do classification.\n",
    "\n",
    "The Nearest Neighbors method is a classification algorithm. The concept is that if two points have close distance, they are more likely to belong to the same class."
   ]
  },
  {
   "cell_type": "code",
   "execution_count": 1,
   "metadata": {},
   "outputs": [],
   "source": [
    "from sklearn.neighbors import KNeighborsClassifier\n",
    "\n",
    "#We need to change the number of neighbors and compare\n",
    "estimator1 = KNeighborsClassifier() #default = 5\n",
    "estimator2 = KNeighborsClassifier(2)\n",
    "estimator3 = KNeighborsClassifier(7)\n",
    "estimator4 = KNeighborsClassifier(10)"
   ]
  },
  {
   "cell_type": "markdown",
   "metadata": {},
   "source": [
    "We have to:\n",
    "\n",
    "1. fit: use training data to build the ML model\n",
    "    -input: training data set\n",
    "    -return: ML model with trained parameters\n",
    "\n",
    "2. predict: use test data to validate ML model\n",
    "    -input: test data set\n",
    "    -return: the predicted ML values"
   ]
  },
  {
   "cell_type": "code",
   "execution_count": 2,
   "metadata": {},
   "outputs": [],
   "source": [
    "#We need to create our dataset\n",
    "import numpy as np\n",
    "from sklearn.datasets import load_digits\n",
    "\n",
    "dataset = load_digits()\n",
    "X = dataset.data\n",
    "Y = dataset.target"
   ]
  },
  {
   "cell_type": "code",
   "execution_count": 3,
   "metadata": {},
   "outputs": [],
   "source": [
    "#We need to split the data into training and testing values\n",
    "from sklearn.model_selection import train_test_split\n",
    "\n",
    "X_train, X_test, Y_train, Y_test = train_test_split(X, Y)"
   ]
  },
  {
   "cell_type": "code",
   "execution_count": 4,
   "metadata": {},
   "outputs": [
    {
     "data": {
      "text/plain": [
       "1347"
      ]
     },
     "execution_count": 4,
     "metadata": {},
     "output_type": "execute_result"
    }
   ],
   "source": [
    "len(X_train)"
   ]
  },
  {
   "cell_type": "code",
   "execution_count": 5,
   "metadata": {},
   "outputs": [
    {
     "data": {
      "text/plain": [
       "450"
      ]
     },
     "execution_count": 5,
     "metadata": {},
     "output_type": "execute_result"
    }
   ],
   "source": [
    "len(X_test)"
   ]
  },
  {
   "cell_type": "code",
   "execution_count": 6,
   "metadata": {},
   "outputs": [
    {
     "data": {
      "text/plain": [
       "KNeighborsClassifier(n_neighbors=10)"
      ]
     },
     "execution_count": 6,
     "metadata": {},
     "output_type": "execute_result"
    }
   ],
   "source": [
    "#Now we need to fit the data to build ML model with trained parameters\n",
    "\n",
    "estimator1.fit(X_train, Y_train)\n",
    "estimator2.fit(X_train, Y_train)\n",
    "estimator3.fit(X_train, Y_train)\n",
    "estimator4.fit(X_train, Y_train)"
   ]
  },
  {
   "cell_type": "code",
   "execution_count": 7,
   "metadata": {},
   "outputs": [
    {
     "name": "stdout",
     "output_type": "stream",
     "text": [
      "The accuracy with 5 neighbors is 99.1%\n",
      "The accuracy with 2 neighbors is 99.1%\n",
      "The accuracy with 7 neighbors is 99.1%\n",
      "The accuracy with 10 neighbors is 98.7%\n"
     ]
    }
   ],
   "source": [
    "#Now we are at thepredict stage where we validate our model\n",
    "#and check the accuracy\n",
    "\n",
    "Y_predicted1 = estimator1.predict(X_test)\n",
    "accuracy1 = np.mean(Y_test==Y_predicted1)*100\n",
    "print(\"The accuracy with 5 neighbors is {0:.1f}%\".format(accuracy1))\n",
    "\n",
    "Y_predicted2 = estimator2.predict(X_test)\n",
    "accuracy2 = np.mean(Y_test==Y_predicted2)*100\n",
    "print(\"The accuracy with 2 neighbors is {0:.1f}%\".format(accuracy2))\n",
    "\n",
    "Y_predicted3 = estimator3.predict(X_test)\n",
    "accuracy3 = np.mean(Y_test==Y_predicted3)*100\n",
    "print(\"The accuracy with 7 neighbors is {0:.1f}%\".format(accuracy3))\n",
    "\n",
    "Y_predicted4 = estimator4.predict(X_test)\n",
    "accuracy4 = np.mean(Y_test==Y_predicted4)*100\n",
    "print(\"The accuracy with 10 neighbors is {0:.1f}%\".format(accuracy4))"
   ]
  },
  {
   "cell_type": "markdown",
   "metadata": {},
   "source": [
    "We can see that the highest accuracy is with 7 neighbors.\n",
    "Overall this algorithm produces highly accurate results."
   ]
  },
  {
   "cell_type": "code",
   "execution_count": 8,
   "metadata": {},
   "outputs": [
    {
     "name": "stdout",
     "output_type": "stream",
     "text": [
      "The accuracy with 5 neighbors is 96.3%\n",
      "The accuracy with 2 neighbors is 96.7%\n",
      "The accuracy with 7 neighbors is 96.0%\n",
      "The accuracy with 10 neighbors is 95.5%\n"
     ]
    }
   ],
   "source": [
    "#Now we will use cross validation method for accuracy\n",
    "from sklearn.model_selection import cross_val_score\n",
    "\n",
    "scores1 = cross_val_score(estimator1, X, Y, scoring='accuracy')\n",
    "average_accuracy1 = np.mean(scores1)*100\n",
    "print(\"The accuracy with 5 neighbors is {0:.1f}%\".format(average_accuracy1))\n",
    "\n",
    "scores2 = cross_val_score(estimator2, X, Y, scoring='accuracy')\n",
    "average_accuracy2 = np.mean(scores2)*100\n",
    "print(\"The accuracy with 2 neighbors is {0:.1f}%\".format(average_accuracy2))\n",
    "\n",
    "scores3 = cross_val_score(estimator3, X, Y, scoring='accuracy')\n",
    "average_accuracy3 = np.mean(scores3)*100\n",
    "print(\"The accuracy with 7 neighbors is {0:.1f}%\".format(average_accuracy3))\n",
    "\n",
    "scores4 = cross_val_score(estimator4, X, Y, scoring='accuracy')\n",
    "average_accuracy4 = np.mean(scores4)*100\n",
    "print(\"The accuracy with 10 neighbors is {0:.1f}%\".format(average_accuracy4))"
   ]
  },
  {
   "cell_type": "markdown",
   "metadata": {},
   "source": [
    "Using this cross-validation method we see that 2 neighbors has the highest accuracy."
   ]
  },
  {
   "cell_type": "code",
   "execution_count": 9,
   "metadata": {},
   "outputs": [],
   "source": [
    "import warnings\n",
    "warnings.filterwarnings('ignore')\n",
    "\n",
    "parameters = list(range(1,20))\n",
    "\n",
    "avg_scores1 = []\n",
    "all_scores1 = []\n",
    "\n",
    "for n_neighbors in parameters:\n",
    "    estimator1 = KNeighborsClassifier()\n",
    "    scores1 = cross_val_score(estimator1, X, Y, scoring='accuracy')\n",
    "    avg_scores1.append(np.mean(scores1))\n",
    "    all_scores1.append(scores1)\n",
    "    \n",
    "avg_scores2 = []\n",
    "all_scores2 = []\n",
    "\n",
    "for n_neighbors in parameters:\n",
    "    estimator2 = KNeighborsClassifier(2)\n",
    "    scores2 = cross_val_score(estimator2, X, Y, scoring='accuracy')\n",
    "    avg_scores2.append(np.mean(scores2))\n",
    "    all_scores2.append(scores2)\n",
    "    \n",
    "avg_scores3 = []\n",
    "all_scores3 = []\n",
    "\n",
    "for n_neighbors in parameters:\n",
    "    estimator3 = KNeighborsClassifier(7)\n",
    "    scores3 = cross_val_score(estimator3, X, Y, scoring='accuracy')\n",
    "    avg_scores3.append(np.mean(scores3))\n",
    "    all_scores3.append(scores3)\n",
    "    \n",
    "avg_scores4 = []\n",
    "all_scores4 = []\n",
    "\n",
    "for n_neighbors in parameters:\n",
    "    estimator4 = KNeighborsClassifier(10)\n",
    "    scores4 = cross_val_score(estimator4, X, Y, scoring='accuracy')\n",
    "    avg_scores4.append(np.mean(scores4))\n",
    "    all_scores4.append(scores4)"
   ]
  },
  {
   "cell_type": "code",
   "execution_count": 10,
   "metadata": {},
   "outputs": [
    {
     "data": {
      "image/png": "[encoded data removed]",
      "text/plain": [
       "<Figure size 432x288 with 1 Axes>"
      ]
     },
     "metadata": {
      "needs_background": "light"
     },
     "output_type": "display_data"
    }
   ],
   "source": [
    "import matplotlib.pyplot as plt\n",
    "\n",
    "plt.plot(parameters,avg_scores1, '-o', label='5 Neighbors')\n",
    "plt.plot(parameters,avg_scores2, '-o', label='2 Neighbors')\n",
    "plt.plot(parameters,avg_scores3, '-o', label='7 Neighbors')\n",
    "plt.plot(parameters,avg_scores4, '-o', label='10 Neighbors')\n",
    "plt.xlabel('N-Neighbor')\n",
    "plt.ylabel('Accuracy')\n",
    "plt.legend()\n",
    "plt.show()"
   ]
  },
  {
   "cell_type": "markdown",
   "metadata": {},
   "source": [
    "Now let's compare with a couple other scikit classifiers found here:\n",
    "\n",
    "https://scikit-learn.org/stable/auto_examples/classification/plot_classifier_comparison.html"
   ]
  },
  {
   "cell_type": "code",
   "execution_count": 11,
   "metadata": {},
   "outputs": [
    {
     "name": "stdout",
     "output_type": "stream",
     "text": [
      "The accuracy using Decision Tree Classifier is 87.333333%\n",
      "With max depth = 10\n"
     ]
    }
   ],
   "source": [
    "from sklearn.tree import DecisionTreeClassifier\n",
    "\n",
    "estimator5 = DecisionTreeClassifier(max_depth=10) #max_depth=5\n",
    "estimator5.fit(X_train, Y_train)\n",
    "Y5_predicted = estimator5.predict(X_test)\n",
    "accuracy5 = np.mean(Y_test==Y5_predicted)*100\n",
    "print('The accuracy using Decision Tree Classifier is {0:1f}%'.format(accuracy5))\n",
    "print('With max depth = 10')"
   ]
  },
  {
   "cell_type": "code",
   "execution_count": 12,
   "metadata": {},
   "outputs": [
    {
     "name": "stdout",
     "output_type": "stream",
     "text": [
      "The accuracy using Decision Tree Classifier is 87.555556%\n",
      "With max depth = 20\n"
     ]
    }
   ],
   "source": [
    "estimator5 = DecisionTreeClassifier(max_depth=20) #max_depth=5\n",
    "estimator5.fit(X_train, Y_train)\n",
    "Y5_predicted = estimator5.predict(X_test)\n",
    "accuracy5 = np.mean(Y_test==Y5_predicted)*100\n",
    "print('The accuracy using Decision Tree Classifier is {0:1f}%'.format(accuracy5))\n",
    "print('With max depth = 20')"
   ]
  },
  {
   "cell_type": "code",
   "execution_count": 13,
   "metadata": {},
   "outputs": [
    {
     "name": "stdout",
     "output_type": "stream",
     "text": [
      "The accuracy using Decision Tree Classifier is 86.888889%\n",
      "With max depth = 100\n"
     ]
    }
   ],
   "source": [
    "estimator5 = DecisionTreeClassifier(max_depth=100) #max_depth=5\n",
    "estimator5.fit(X_train, Y_train)\n",
    "Y5_predicted = estimator5.predict(X_test)\n",
    "accuracy5 = np.mean(Y_test==Y5_predicted)*100\n",
    "print('The accuracy using Decision Tree Classifier is {0:1f}%'.format(accuracy5))\n",
    "print('With max depth = 100')"
   ]
  },
  {
   "cell_type": "markdown",
   "metadata": {},
   "source": [
    "We can see when playing around with the parameters for the Decision Tree Classifier that the we can't really get above 87% accuracy."
   ]
  },
  {
   "cell_type": "code",
   "execution_count": 14,
   "metadata": {},
   "outputs": [
    {
     "name": "stdout",
     "output_type": "stream",
     "text": [
      "The accuracy using MLP Classifier is 97.555556%\n",
      "With max iterations = 1000\n"
     ]
    }
   ],
   "source": [
    "from sklearn.neural_network import MLPClassifier\n",
    "\n",
    "estimator6 = MLPClassifier(max_iter=1000)\n",
    "estimator6.fit(X_train, Y_train)\n",
    "Y6_predicted = estimator6.predict(X_test)\n",
    "accuracy6 = np.mean(Y_test==Y6_predicted)*100\n",
    "print('The accuracy using MLP Classifier is {0:1f}%'.format(accuracy6))\n",
    "print('With max iterations = 1000')"
   ]
  },
  {
   "cell_type": "code",
   "execution_count": 15,
   "metadata": {},
   "outputs": [
    {
     "name": "stdout",
     "output_type": "stream",
     "text": [
      "The accuracy using MLP Classifier is 93.555556%\n",
      "With max iterations = 20\n"
     ]
    }
   ],
   "source": [
    "estimator6 = MLPClassifier(max_iter=20)\n",
    "estimator6.fit(X_train, Y_train)\n",
    "Y6_predicted = estimator6.predict(X_test)\n",
    "accuracy6 = np.mean(Y_test==Y6_predicted)*100\n",
    "print('The accuracy using MLP Classifier is {0:1f}%'.format(accuracy6))\n",
    "print('With max iterations = 20')"
   ]
  },
  {
   "cell_type": "code",
   "execution_count": 16,
   "metadata": {},
   "outputs": [
    {
     "name": "stdout",
     "output_type": "stream",
     "text": [
      "The accuracy using MLP Classifier is 98.000000%\n",
      "With max iterations = 10,000\n"
     ]
    }
   ],
   "source": [
    "estimator6 = MLPClassifier(max_iter=10000)\n",
    "estimator6.fit(X_train, Y_train)\n",
    "Y6_predicted = estimator6.predict(X_test)\n",
    "accuracy6 = np.mean(Y_test==Y6_predicted)*100\n",
    "print('The accuracy using MLP Classifier is {0:1f}%'.format(accuracy6))\n",
    "print('With max iterations = 10,000')"
   ]
  },
  {
   "cell_type": "markdown",
   "metadata": {},
   "source": [
    "The most accurate that the MLP CLassifier can get is about 98%.\n",
    "This is better than our K Neightbors classifier."
   ]
  },
  {
   "cell_type": "code",
   "execution_count": 17,
   "metadata": {},
   "outputs": [
    {
     "name": "stdout",
     "output_type": "stream",
     "text": [
      "The accuracy using Random Forest Classifier is 85.555556%\n",
      "With max depther = 5\n",
      "With n_estimators = 10\n",
      "With max features = 1\n"
     ]
    }
   ],
   "source": [
    "from sklearn.ensemble import RandomForestClassifier\n",
    "\n",
    "estimator7 = RandomForestClassifier(max_depth=5,\n",
    "                                   n_estimators=10,\n",
    "                                   max_features=1)\n",
    "estimator7.fit(X_train, Y_train)\n",
    "Y7_predicted = estimator7.predict(X_test)\n",
    "accuracy7 = np.mean(Y_test==Y7_predicted)*100\n",
    "print('The accuracy using Random Forest Classifier is {0:1f}%'.format(accuracy7))\n",
    "print('With max depther = 5')\n",
    "print('With n_estimators = 10')\n",
    "print('With max features = 1')"
   ]
  },
  {
   "cell_type": "code",
   "execution_count": 18,
   "metadata": {},
   "outputs": [
    {
     "name": "stdout",
     "output_type": "stream",
     "text": [
      "The accuracy using Random Forest Classifier is 92.222222%\n",
      "With max depther = 5\n",
      "With n_estimators = 100\n",
      "With max features = 1\n"
     ]
    }
   ],
   "source": [
    "estimator7 = RandomForestClassifier(max_depth=5,\n",
    "                                   n_estimators=100,\n",
    "                                   max_features=1)\n",
    "estimator7.fit(X_train, Y_train)\n",
    "Y7_predicted = estimator7.predict(X_test)\n",
    "accuracy7 = np.mean(Y_test==Y7_predicted)*100\n",
    "print('The accuracy using Random Forest Classifier is {0:1f}%'.format(accuracy7))\n",
    "print('With max depther = 5')\n",
    "print('With n_estimators = 100')\n",
    "print('With max features = 1')"
   ]
  },
  {
   "cell_type": "code",
   "execution_count": 19,
   "metadata": {},
   "outputs": [
    {
     "name": "stdout",
     "output_type": "stream",
     "text": [
      "The accuracy using Random Forest Classifier is 96.222222%\n",
      "With max depther = 15\n",
      "With n_estimators = 100\n",
      "With max features = 1\n"
     ]
    }
   ],
   "source": [
    "estimator7 = RandomForestClassifier(max_depth=15,\n",
    "                                   n_estimators=100,\n",
    "                                   max_features=1)\n",
    "estimator7.fit(X_train, Y_train)\n",
    "Y7_predicted = estimator7.predict(X_test)\n",
    "accuracy7 = np.mean(Y_test==Y7_predicted)*100\n",
    "print('The accuracy using Random Forest Classifier is {0:1f}%'.format(accuracy7))\n",
    "print('With max depther = 15')\n",
    "print('With n_estimators = 100')\n",
    "print('With max features = 1')"
   ]
  },
  {
   "cell_type": "code",
   "execution_count": 20,
   "metadata": {},
   "outputs": [
    {
     "name": "stdout",
     "output_type": "stream",
     "text": [
      "The accuracy using Random Forest Classifier is 97.777778%\n",
      "With max depther = 25\n",
      "With n_estimators = 200\n",
      "With max features = 8\n"
     ]
    }
   ],
   "source": [
    "estimator7 = RandomForestClassifier(max_depth=25,\n",
    "                                   n_estimators=200,\n",
    "                                   max_features=8)\n",
    "estimator7.fit(X_train, Y_train)\n",
    "Y7_predicted = estimator7.predict(X_test)\n",
    "accuracy7 = np.mean(Y_test==Y7_predicted)*100\n",
    "print('The accuracy using Random Forest Classifier is {0:1f}%'.format(accuracy7))\n",
    "print('With max depther = 25')\n",
    "print('With n_estimators = 200')\n",
    "print('With max features = 8')"
   ]
  },
  {
   "cell_type": "markdown",
   "metadata": {},
   "source": [
    "The best accuracy using the Random Forest Classifier is about 97% which is about the same as the K Neighbors classifier."
   ]
  },
  {
   "cell_type": "code",
   "execution_count": null,
   "metadata": {},
   "outputs": [],
   "source": []
  }
 ],
 "metadata": {
  "kernelspec": {
   "display_name": "Python 3",
   "language": "python",
   "name": "python3"
  },
  "language_info": {
   "codemirror_mode": {
    "name": "ipython",
    "version": 3
   },
   "file_extension": ".py",
   "mimetype": "text/x-python",
   "name": "python",
   "nbconvert_exporter": "python",
   "pygments_lexer": "ipython3",
   "version": "3.8.3"
  }
 },
 "nbformat": 4,
 "nbformat_minor": 4
}

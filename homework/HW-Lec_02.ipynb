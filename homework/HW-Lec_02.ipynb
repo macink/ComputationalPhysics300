{
 "cells": [
  {
   "cell_type": "code",
   "execution_count": 1,
   "metadata": {},
   "outputs": [
    {
     "name": "stdout",
     "output_type": "stream",
     "text": [
      "type a value for N: 2\n",
      "when q= 0 ; the multiplicity is 1\n",
      "when q= 1 ; the multiplicity is 2\n",
      "when q= 2 ; the multiplicity is 3\n"
     ]
    }
   ],
   "source": [
    "# This program will calculate the multiplicity \n",
    "\n",
    "def factor(N):\n",
    "    \"\"\"\n",
    "    Function for factorial calculation\n",
    "    \"\"\"\n",
    "    if N == 0 or N == 1:\n",
    "        return 1\n",
    "    else:\n",
    "        total = 1\n",
    "        for i in range(2,N+1):\n",
    "            total *= i\n",
    "        return total\n",
    "    \n",
    "def Multiplicity(N,q):\n",
    "    \"\"\"\n",
    "    Function to calculate the multiplicity\n",
    "    \"\"\"\n",
    "    return factor(q+N-1)/factor(q)*factor(N-1)\n",
    "\n",
    "# N is number of oscillators\n",
    "N = int(input(\"type a value for N: \"))\n",
    "\n",
    "# q is total energy\n",
    "for q in range (N+1):\n",
    "    print \"when q=\", q, \"; the multiplicity is\", Multiplicity(N,q)"
   ]
  },
  {
   "cell_type": "code",
   "execution_count": null,
   "metadata": {},
   "outputs": [],
   "source": []
  }
 ],
 "metadata": {
  "kernelspec": {
   "display_name": "Python 2",
   "language": "python",
   "name": "python2"
  },
  "language_info": {
   "codemirror_mode": {
    "name": "ipython",
    "version": 2
   },
   "file_extension": ".py",
   "mimetype": "text/x-python",
   "name": "python",
   "nbconvert_exporter": "python",
   "pygments_lexer": "ipython2",
   "version": "2.7.18"
  }
 },
 "nbformat": 4,
 "nbformat_minor": 2
}

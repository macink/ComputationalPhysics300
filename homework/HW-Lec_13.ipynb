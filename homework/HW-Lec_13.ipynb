{
 "cells": [
  {
   "cell_type": "code",
   "execution_count": 1,
   "metadata": {},
   "outputs": [
    {
     "name": "stdout",
     "output_type": "stream",
     "text": [
      "first die: 6 second die: 3\n"
     ]
    }
   ],
   "source": [
    "#Program to generate two random numbers 1-6\n",
    "#to simulate rolling two dice\n",
    "\n",
    "import numpy as np\n",
    "\n",
    "#call seed\n",
    "#don't put number in () so that we get diff rand number each time\n",
    "np.random.seed()\n",
    "\n",
    "#generate rand number between 1-6\n",
    "first_die = np.random.randint(1,7,1)\n",
    "second_die = np.random.randint(1,7,1)\n",
    "\n",
    "print('first die:', first_die[0], 'second die:', second_die[0])"
   ]
  },
  {
   "cell_type": "code",
   "execution_count": 2,
   "metadata": {},
   "outputs": [
    {
     "name": "stdout",
     "output_type": "stream",
     "text": [
      "number of double 6 rolled: 27686\n",
      "probability of this happening: 0.027686\n"
     ]
    }
   ],
   "source": [
    "#modify program to roll dice 1 million times\n",
    "#count how many double 6 we get\n",
    "#then calculate the probability of rolling double 6\n",
    "\n",
    "np.random.seed()\n",
    "\n",
    "NO = 10**6   #number of rolls of the dice\n",
    "N1 = 0     #number of times we roll a double 6\n",
    "\n",
    "for i in range(NO):\n",
    "    first_die = np.random.randint(1,7,1)\n",
    "    second_die = np.random.randint(1,7,1)\n",
    "    if first_die == 6 and second_die == 6:\n",
    "        N1 += 1\n",
    "\n",
    "probability = N1/NO   #probability of rolling double 6\n",
    "print('number of double 6 rolled:', N1)\n",
    "print('probability of this happening:', probability)"
   ]
  },
  {
   "cell_type": "code",
   "execution_count": 142,
   "metadata": {},
   "outputs": [
    {
     "data": {
      "image/png": "[encoded data removed]",
      "text/plain": [
       "<Figure size 432x288 with 1 Axes>"
      ]
     },
     "metadata": {
      "needs_background": "light"
     },
     "output_type": "display_data"
    },
    {
     "data": {
      "image/png": "[encoded data removed]",
      "text/plain": [
       "<Figure size 432x288 with 1 Axes>"
      ]
     },
     "metadata": {
      "needs_background": "light"
     },
     "output_type": "display_data"
    }
   ],
   "source": [
    "#Program to generate random integers between -5 and 5 using\n",
    "#linear congruential method \n",
    "\n",
    "import matplotlib.pyplot as plt\n",
    "\n",
    "'''\n",
    "I just randomly picked numbers for a and c until I got a good\n",
    "looking spread on the plot and histogram\n",
    "'''\n",
    "\n",
    "N = 100\n",
    "#a = 1680\n",
    "#c = 1012\n",
    "#m = 11    #numbers from 0-10\n",
    "\n",
    "a = 78939999\n",
    "c = 34682\n",
    "m = 11\n",
    "x = 1\n",
    "results = []\n",
    "\n",
    "for i in range(N):      \n",
    "    x = (a*x+c)%m\n",
    "    results.append(x-5)  #-5 to get negative numbers\n",
    "plt.plot(results,\"o\")\n",
    "plt.show()\n",
    "\n",
    "plt.hist(results)\n",
    "plt.show()"
   ]
  },
  {
   "cell_type": "code",
   "execution_count": null,
   "metadata": {},
   "outputs": [],
   "source": []
  }
 ],
 "metadata": {
  "kernelspec": {
   "display_name": "Python 3",
   "language": "python",
   "name": "python3"
  },
  "language_info": {
   "codemirror_mode": {
    "name": "ipython",
    "version": 3
   },
   "file_extension": ".py",
   "mimetype": "text/x-python",
   "name": "python",
   "nbconvert_exporter": "python",
   "pygments_lexer": "ipython3",
   "version": "3.8.3"
  }
 },
 "nbformat": 4,
 "nbformat_minor": 4
}

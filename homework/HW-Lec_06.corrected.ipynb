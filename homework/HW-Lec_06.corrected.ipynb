{
 "cells": [
  {
   "cell_type": "code",
   "execution_count": 52,
   "metadata": {},
   "outputs": [],
   "source": [
    "\n",
    "\n",
    "import numpy as np\n",
    "import matplotlib.pyplot as plt\n",
    "import scipy.integrate as integral\n",
    "\n",
    "\n",
    "def Simpson(begin, end, partitions):\n",
    "    '''\n",
    "    Approximates the area under the curve using series expansion\n",
    "    '''\n",
    "    f = lambda x: (x**4 * np.exp(x)) * (np.exp(x)-1)**-2\n",
    "    \n",
    "    dx = (end - begin)/partitions\n",
    "    X = np.linspace(begin, end, partitions+1)\n",
    "    Y = f(X)\n",
    "    \n",
    "    area = np.zeros([partitions+1],float)\n",
    "    for i in range (partitions+1):\n",
    "        if i==0 or i==partitions:\n",
    "            coef = 1/3\n",
    "        elif i%2 == 1:\n",
    "            coef = 2/3\n",
    "        else:\n",
    "            coef = 4/3\n",
    "        area[i] = coef * Y[i] * dx\n",
    "        \n",
    "    return sum(area)\n",
    "\n",
    "\n",
    "def heat_capacity(start, end, plot=1):\n",
    "    '''\n",
    "    Program to calculate the heat capacity of a solid\n",
    "    '''\n",
    "    f = lambda x: (x**4 * np.exp(x)) * (np.exp(x)-1)**-2\n",
    "    \n",
    "    #constants\n",
    "    V = 0.001                         #Volume in meters cubed\n",
    "    rho = 2710                        #Density of aluminum in kg/m^3\n",
    "    kb = 1.3807 * 10**-23             #Boltzman constant J/K\n",
    "    theta = 428                       #Debye temperature in K\n",
    "    t_min = 5                         #Minimum temp in K\n",
    "    t_max = 500                       #Max temp in K\n",
    "    dT = 5                            #Change in T\n",
    "    parts = int((t_max - t_min)/dT)   #Subintervals\n",
    "    eqn1 = 9*V*rho*kb                 #Part of equation for Cv\n",
    "    Cv = []                           #array for y values (Cv)\n",
    "    \n",
    "    #calculate the heat capacity (Cv)\n",
    "    for T in range(t_min, t_max+dT, dT):\n",
    "        upper = theta / T                      #Upper bound in integral\n",
    "        eqn2 = (T/theta)**3                    #Part of equation for Cv\n",
    "        eqn3 = Simpson(10**-15, upper, 100)    #Integral part of equation for Cv\n",
    "        Cv.append(eqn1*eqn2*eqn3)              #Create array values for Cv\n",
    "    \n",
    "    #now make plot\n",
    "    T = np.linspace(t_min, t_max, parts+1)     #array for x values (temperature)   \n",
    "    plt.xlim([start,end])\n",
    "    plt.ylim([min(Cv),max(Cv)])\n",
    "    plt.title('Heat Capacity of a Solid from 5K - 500K')\n",
    "    plt.xlabel('Temperature (K)')\n",
    "    plt.ylabel('Heat Capacity (Cv)')\n",
    "    plt.plot(T, Cv) \n",
    "    plt.show()\n"
   ]
  },
  {
   "cell_type": "code",
   "execution_count": 53,
   "metadata": {},
   "outputs": [
    {
     "data": {
      "image/png": "[encoded data removed]",
      "text/plain": [
       "<Figure size 432x288 with 1 Axes>"
      ]
     },
     "metadata": {
      "needs_background": "light"
     },
     "output_type": "display_data"
    }
   ],
   "source": [
    "heat_capacity(5,500)"
   ]
  },
  {
   "cell_type": "code",
   "execution_count": null,
   "metadata": {},
   "outputs": [],
   "source": []
  }
 ],
 "metadata": {
  "kernelspec": {
   "display_name": "Python 3",
   "language": "python",
   "name": "python3"
  },
  "language_info": {
   "codemirror_mode": {
    "name": "ipython",
    "version": 3
   },
   "file_extension": ".py",
   "mimetype": "text/x-python",
   "name": "python",
   "nbconvert_exporter": "python",
   "pygments_lexer": "ipython3",
   "version": "3.8.3"
  }
 },
 "nbformat": 4,
 "nbformat_minor": 4
}

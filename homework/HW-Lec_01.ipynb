{
 "cells": [
  {
   "cell_type": "code",
   "execution_count": 43,
   "metadata": {},
   "outputs": [
    {
     "name": "stdout",
     "output_type": "stream",
     "text": [
      "type a positive integer for m: 5\n",
      "type a positive integer greater than m for n:7\n",
      "m= 5 , n= 7 , wavelength is: 4652.84108174 nm\n"
     ]
    }
   ],
   "source": [
    "# This is a program to calculate the wavelength from m,n series\n",
    "# provided by the user\n",
    "R = 1.097e-2\n",
    "good_m = False\n",
    "while good_m is False:\n",
    "    try:\n",
    "        m = int(input(\"type a positive integer for m: \"))\n",
    "        if m<=0:\n",
    "            print \"m must be a positive integer, try again\"\n",
    "        else:\n",
    "            good_m = True\n",
    "    except NameError:\n",
    "        print \"m must be a number, try again\"\n",
    "good_n = False\n",
    "while good_n is False:\n",
    "    try:\n",
    "        n = int(input(\"type a positive integer greater than m for n:\"))\n",
    "        if n<=m:\n",
    "            print \"n must be an integer greater than \", m, \", try again\"\n",
    "        else:\n",
    "            good_n = True\n",
    "    except NameError:\n",
    "        print \"n must be a number, try again\"\n",
    "invlambda = R*(1.0/m**2 - 1.0/n**2)\n",
    "print \"m=\", m, \", n=\", n, \", wavelength is:\", 1/invlambda, \"nm\""
   ]
  },
  {
   "cell_type": "code",
   "execution_count": null,
   "metadata": {},
   "outputs": [],
   "source": []
  }
 ],
 "metadata": {
  "kernelspec": {
   "display_name": "Python 2",
   "language": "python",
   "name": "python2"
  },
  "language_info": {
   "codemirror_mode": {
    "name": "ipython",
    "version": 2
   },
   "file_extension": ".py",
   "mimetype": "text/x-python",
   "name": "python",
   "nbconvert_exporter": "python",
   "pygments_lexer": "ipython2",
   "version": "2.7.18"
  }
 },
 "nbformat": 4,
 "nbformat_minor": 2
}

{
 "cells": [
  {
   "cell_type": "code",
   "execution_count": 1,
   "metadata": {},
   "outputs": [
    {
     "name": "stdout",
     "output_type": "stream",
     "text": [
      "(501, 501)\n"
     ]
    }
   ],
   "source": [
    "#download data for density plot from web\n",
    "import numpy as np\n",
    "import requests\n",
    "url = 'http://www-personal.umich.edu/~mejn/cp/data/circular.txt'\n",
    "r = requests.get(url, allow_redirects=True)\n",
    "#below to save content\n",
    "open('densityPlt', 'wb').write(r.content)\n",
    "\n",
    "data = np.loadtxt(\"densityPlt\",float)\n",
    "print(np.shape(data))"
   ]
  },
  {
   "cell_type": "code",
   "execution_count": 6,
   "metadata": {},
   "outputs": [
    {
     "ename": "TypeError",
     "evalue": "can't convert complex to float",
     "output_type": "error",
     "traceback": [
      "\u001b[0;31m---------------------------------------------------------------------------\u001b[0m",
      "\u001b[0;31mTypeError\u001b[0m                                 Traceback (most recent call last)",
      "\u001b[0;32m<ipython-input-6-f17c7f310cf6>\u001b[0m in \u001b[0;36m<module>\u001b[0;34m\u001b[0m\n\u001b[1;32m     16\u001b[0m             \u001b[0mc\u001b[0m \u001b[0;34m=\u001b[0m \u001b[0mcomplex\u001b[0m\u001b[0;34m(\u001b[0m\u001b[0mx\u001b[0m\u001b[0;34m,\u001b[0m\u001b[0my\u001b[0m\u001b[0;34m)\u001b[0m\u001b[0;34m\u001b[0m\u001b[0;34m\u001b[0m\u001b[0m\n\u001b[1;32m     17\u001b[0m             \u001b[0mz\u001b[0m \u001b[0;34m=\u001b[0m \u001b[0mz\u001b[0m\u001b[0;34m*\u001b[0m\u001b[0mz\u001b[0m \u001b[0;34m+\u001b[0m \u001b[0mc\u001b[0m\u001b[0;34m\u001b[0m\u001b[0;34m\u001b[0m\u001b[0m\n\u001b[0;32m---> 18\u001b[0;31m             \u001b[0mimage\u001b[0m\u001b[0;34m[\u001b[0m\u001b[0mi\u001b[0m\u001b[0;34m,\u001b[0m\u001b[0mj\u001b[0m\u001b[0;34m]\u001b[0m \u001b[0;34m=\u001b[0m \u001b[0mcomplex\u001b[0m\u001b[0;34m(\u001b[0m\u001b[0mz\u001b[0m\u001b[0;34m.\u001b[0m\u001b[0mreal\u001b[0m\u001b[0;34m,\u001b[0m\u001b[0mz\u001b[0m\u001b[0;34m.\u001b[0m\u001b[0mimag\u001b[0m\u001b[0;34m)\u001b[0m\u001b[0;34m\u001b[0m\u001b[0;34m\u001b[0m\u001b[0m\n\u001b[0m\u001b[1;32m     19\u001b[0m \u001b[0;34m\u001b[0m\u001b[0m\n\u001b[1;32m     20\u001b[0m \u001b[0;34m\u001b[0m\u001b[0m\n",
      "\u001b[0;31mTypeError\u001b[0m: can't convert complex to float"
     ]
    }
   ],
   "source": [
    "#Program to make image of Mandelbrot set\n",
    "import matplotlib.pyplot as plt\n",
    "from math import *\n",
    "from numpy import *\n",
    "\n",
    "points = 100         # Number of grid points along each side\n",
    "z = 0.0j             # z starts at zero\n",
    "image = empty([points,points])\n",
    "\n",
    "#For grid\n",
    "for i in range(points):\n",
    "    for j in range(points):\n",
    "        for k in linspace(-2,2,points):\n",
    "            x = k\n",
    "            y = k\n",
    "            c = complex(x,y)\n",
    "            z = z*z + c\n",
    "            image[i,j] = complex(z.real,z.imag)\n",
    "    \n",
    "\n",
    "#Calculate the values of z\n",
    "'''\n",
    "for i in linspace(-2,2,points):\n",
    "    for j in linspace(-2,2,points):\n",
    "        for k in linspace(-2,2,1):\n",
    "            x = i\n",
    "            y = i\n",
    "            c = complex(x,y)\n",
    "            z = z*z + c\n",
    "            if sqrt(z.real*z.real + z.imag*z.imag)>=2:\n",
    "                break\n",
    "                '''\n",
    "            \n",
    "plt.imshow(z)\n",
    "plt.gray()\n",
    "plt.show()"
   ]
  },
  {
   "cell_type": "code",
   "execution_count": null,
   "metadata": {},
   "outputs": [],
   "source": []
  }
 ],
 "metadata": {
  "kernelspec": {
   "display_name": "Python 3",
   "language": "python",
   "name": "python3"
  },
  "language_info": {
   "codemirror_mode": {
    "name": "ipython",
    "version": 3
   },
   "file_extension": ".py",
   "mimetype": "text/x-python",
   "name": "python",
   "nbconvert_exporter": "python",
   "pygments_lexer": "ipython3",
   "version": "3.8.3"
  }
 },
 "nbformat": 4,
 "nbformat_minor": 4
}

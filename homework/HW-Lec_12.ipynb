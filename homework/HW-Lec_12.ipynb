{
 "cells": [
  {
   "cell_type": "code",
   "execution_count": 21,
   "metadata": {},
   "outputs": [],
   "source": [
    "#Importance Sampling Method\n",
    "\n",
    "import numpy as np\n",
    "from random import random\n",
    "from scipy.integrate import quad\n",
    "\n",
    "def f(x):\n",
    "    '''\n",
    "    function that I want to integrate\n",
    "    '''\n",
    "    return 1/np.sqrt(x)/(np.exp(x)+1)\n",
    "\n",
    "def w(x):\n",
    "    '''\n",
    "    weight function\n",
    "    '''\n",
    "    return 1/np.sqrt(x)\n",
    "\n",
    "def p(x):\n",
    "    '''\n",
    "    probability function\n",
    "    '''\n",
    "    return x**2 #where did x^2 come from?\n",
    "    #when I calculate p I get 1/2x^-1/2\n",
    "    #return w(x)/quad(w, 0, 1)[0]\n",
    "\n",
    "def IM_1(N):\n",
    "    '''\n",
    "    function to calculate the value of an integral using the\n",
    "    Importance Sampling Method\n",
    "    '''\n",
    "    g = quad(w, 0, 1)[0] #integral of weighted function\n",
    "    I = 0\n",
    "    for i in range(N):\n",
    "        '''\n",
    "        loop to go through random number points\n",
    "        '''\n",
    "        x = random()\n",
    "        y = p(x)\n",
    "        I += f(y)/w(y) #the weighted average\n",
    "    return I/N*g"
   ]
  },
  {
   "cell_type": "code",
   "execution_count": 25,
   "metadata": {},
   "outputs": [
    {
     "data": {
      "text/plain": [
       "0.8388990496806634"
      ]
     },
     "execution_count": 25,
     "metadata": {},
     "output_type": "execute_result"
    }
   ],
   "source": [
    "IM_1(1000000)"
   ]
  },
  {
   "cell_type": "code",
   "execution_count": 3,
   "metadata": {},
   "outputs": [
    {
     "data": {
      "text/plain": [
       "0.8389329600133838"
      ]
     },
     "execution_count": 3,
     "metadata": {},
     "output_type": "execute_result"
    }
   ],
   "source": [
    "#Lets check how accurate it is using scipy integrate\n",
    "quad(f,0,1)[0]"
   ]
  },
  {
   "cell_type": "code",
   "execution_count": 6,
   "metadata": {},
   "outputs": [],
   "source": [
    "def f2(x):\n",
    "    '''\n",
    "    function that I want to integrate\n",
    "    '''\n",
    "    return 1/x/(np.exp(x)+1)\n",
    "\n",
    "def w2(x):\n",
    "    '''\n",
    "    weight function\n",
    "    '''\n",
    "    return 1/x\n",
    "\n",
    "def p2(x):\n",
    "    '''\n",
    "    probability function\n",
    "    '''\n",
    "    return w2(x)/quad(w2, 0, 1)[0]\n",
    "\n",
    "def IM_2(N):\n",
    "    '''\n",
    "    function to calculate the value of an integral using the\n",
    "    Importance Sampling Method\n",
    "    '''\n",
    "    g2 = quad(w2, 0, 1)[0] #integral of weighted function\n",
    "    I = 0\n",
    "    for i in range(N):\n",
    "        '''\n",
    "        loop to go through random number points\n",
    "        '''\n",
    "        x = random()\n",
    "        y = p2(x)\n",
    "        I += f2(y)/w2(y) #the weighted average\n",
    "    return I/N*g2"
   ]
  },
  {
   "cell_type": "code",
   "execution_count": 26,
   "metadata": {},
   "outputs": [
    {
     "name": "stderr",
     "output_type": "stream",
     "text": [
      "<ipython-input-6-a511e26836cd>:24: IntegrationWarning: The maximum number of subdivisions (50) has been achieved.\n",
      "  If increasing the limit yields no improvement it is advised to analyze \n",
      "  the integrand in order to determine the difficulties.  If the position of a \n",
      "  local difficulty can be determined (singularity, discontinuity) one will \n",
      "  probably gain from splitting up the interval and calling the integrator \n",
      "  on the subranges.  Perhaps a special-purpose integrator should be used.\n",
      "  g2 = quad(w2, 0, 1)[0] #integral of weighted function\n",
      "<ipython-input-6-a511e26836cd>:17: IntegrationWarning: The maximum number of subdivisions (50) has been achieved.\n",
      "  If increasing the limit yields no improvement it is advised to analyze \n",
      "  the integrand in order to determine the difficulties.  If the position of a \n",
      "  local difficulty can be determined (singularity, discontinuity) one will \n",
      "  probably gain from splitting up the interval and calling the integrator \n",
      "  on the subranges.  Perhaps a special-purpose integrator should be used.\n",
      "  return w2(x)/quad(w2, 0, 1)[0]\n",
      "<ipython-input-6-a511e26836cd>:5: RuntimeWarning: overflow encountered in exp\n",
      "  return 1/x/(np.exp(x)+1)\n"
     ]
    },
    {
     "data": {
      "text/plain": [
       "19.536549027608373"
      ]
     },
     "execution_count": 26,
     "metadata": {},
     "output_type": "execute_result"
    }
   ],
   "source": [
    "IM_2(100000)"
   ]
  },
  {
   "cell_type": "code",
   "execution_count": 8,
   "metadata": {},
   "outputs": [
    {
     "name": "stderr",
     "output_type": "stream",
     "text": [
      "<ipython-input-8-7007f79e50d1>:1: IntegrationWarning: The maximum number of subdivisions (50) has been achieved.\n",
      "  If increasing the limit yields no improvement it is advised to analyze \n",
      "  the integrand in order to determine the difficulties.  If the position of a \n",
      "  local difficulty can be determined (singularity, discontinuity) one will \n",
      "  probably gain from splitting up the interval and calling the integrator \n",
      "  on the subranges.  Perhaps a special-purpose integrator should be used.\n",
      "  quad(f2,0,1)[0]\n"
     ]
    },
    {
     "data": {
      "text/plain": [
       "20.594976039904015"
      ]
     },
     "execution_count": 8,
     "metadata": {},
     "output_type": "execute_result"
    }
   ],
   "source": [
    "quad(f2,0,1)[0]"
   ]
  },
  {
   "cell_type": "code",
   "execution_count": null,
   "metadata": {},
   "outputs": [],
   "source": []
  }
 ],
 "metadata": {
  "kernelspec": {
   "display_name": "Python 3",
   "language": "python",
   "name": "python3"
  },
  "language_info": {
   "codemirror_mode": {
    "name": "ipython",
    "version": 3
   },
   "file_extension": ".py",
   "mimetype": "text/x-python",
   "name": "python",
   "nbconvert_exporter": "python",
   "pygments_lexer": "ipython3",
   "version": "3.8.3"
  }
 },
 "nbformat": 4,
 "nbformat_minor": 4
}

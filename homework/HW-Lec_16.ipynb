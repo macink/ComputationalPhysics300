{
 "cells": [
  {
   "cell_type": "code",
   "execution_count": 21,
   "metadata": {},
   "outputs": [
    {
     "name": "stdout",
     "output_type": "stream",
     "text": [
      "The minimum is: 6.111142898131694e-25\n",
      "the number of iterations:  1001\n"
     ]
    }
   ],
   "source": [
    "%matplotlib inline\n",
    "\n",
    "import numpy as np\n",
    "import matplotlib.pyplot as plt\n",
    "\n",
    "#write code to find minimum of 2D function (not Monte Carlo Method)\n",
    "\n",
    "def f(x):\n",
    "    return x[0]**2/2 + x[1]**2/3 - x[0]*x[1]/4\n",
    "\n",
    "def derivative(f, xy, d=0.001):\n",
    "    '''\n",
    "    function to take the derivative\n",
    "    '''\n",
    "    x,y = xy[0], xy[1]\n",
    "    fx = (f([x+d/2,y])-f([x-d/2,y]))/d\n",
    "    fy = (f([x, y+d/2])-f([x,y-d/2]))/d\n",
    "    return np.array([fx,fy])\n",
    "\n",
    "def minimize(f, x0, N=1000):\n",
    "    '''\n",
    "    function to minimize f(x,y) using fixed step size\n",
    "    gradient descent\n",
    "    '''\n",
    "    now = x0\n",
    "    converged = False\n",
    "    x_hist = []           #array to store x-values\n",
    "    x_hist.append(now)\n",
    "    dx = 0.05             #fixed step size\n",
    "    \n",
    "    for i in range(N):\n",
    "        '''\n",
    "        go through N times with each iteration taking another\n",
    "        step down\n",
    "        '''\n",
    "        df_now = derivative(f, now)  #derivative of current place\n",
    "        nextx = now - df_now*dx      #step down\n",
    "        '''\n",
    "        if we stop stepping down and start going up then we have\n",
    "        found our min and we can stop the iterations\n",
    "        '''\n",
    "        if f(nextx)>f(now):\n",
    "            converged = True\n",
    "            break\n",
    "        '''\n",
    "        if we are not going up yet, continue the iterations\n",
    "        '''\n",
    "        else:\n",
    "            now = nextx\n",
    "            x_hist.append(now)\n",
    "            \n",
    "    return converged, np.array(x_hist), f(now)\n",
    "    \n",
    "[x0, y0] = init(x_min, x_max, y_min, y_max)\n",
    "converged, x_hist, f_min = minimize_fix(f, [x0,y0])\n",
    "print('The minimum is:', f_min)\n",
    "print('the number of iterations: ', len(x_hist))"
   ]
  },
  {
   "cell_type": "code",
   "execution_count": 11,
   "metadata": {},
   "outputs": [
    {
     "name": "stdout",
     "output_type": "stream",
     "text": [
      "Optimization terminated successfully.\n",
      "         Current function value: 0.000000\n",
      "         Iterations: 46\n",
      "         Function evaluations: 87\n",
      "Optimization terminated successfully.\n",
      "         Current function value: 0.000000\n",
      "         Iterations: 2\n",
      "         Function evaluations: 15\n",
      "         Gradient evaluations: 5\n",
      "Optimization terminated successfully.\n",
      "         Current function value: 0.000000\n",
      "         Iterations: 5\n",
      "         Function evaluations: 18\n",
      "         Gradient evaluations: 6\n",
      "Optimization terminated successfully.\n",
      "         Current function value: 0.000000\n",
      "         Iterations: 3\n",
      "         Function evaluations: 64\n"
     ]
    }
   ],
   "source": [
    "#I will now find the minimum using a scipy function\n",
    "from scipy.optimize import minimize\n",
    "\n",
    "'''\n",
    "We have to change the 2D function into a 2D array because \n",
    "I can't figure out how to call scipy functions on 2D function\n",
    "'''\n",
    "def f(x):\n",
    "    return x[0]**2/2 + x[1]**2/3 - x[0]*x[1]/4\n",
    "\n",
    "x_min, x_max = -2, 2\n",
    "y_min, y_max = -2, 2 \n",
    "\n",
    "[x0, y0] = init(x_min, x_max, y_min, y_max)\n",
    "\n",
    "res1 = minimize(f, [x0,y0], method='nelder-mead',\n",
    "               tol=1e-4, options={'disp': True})                  \n",
    "res2 = minimize(f, [x0,y0], method='CG',\n",
    "               tol=1e-4, options={'disp': True})                  \n",
    "res2 = minimize(f, [x0,y0], method='BFGS',\n",
    "               tol=1e-4, options={'disp': True})                  \n",
    "res1 = minimize(f, [x0,y0], method='powell',\n",
    "               tol=1e-4, options={'disp': True})                  \n"
   ]
  },
  {
   "cell_type": "code",
   "execution_count": null,
   "metadata": {},
   "outputs": [],
   "source": [
    "'''\n",
    "it looks like for this function the CG method is the most efficient\n",
    "because it took the least function evaluations and the least \n",
    "iterations\n",
    "'''"
   ]
  }
 ],
 "metadata": {
  "kernelspec": {
   "display_name": "Python 3",
   "language": "python",
   "name": "python3"
  },
  "language_info": {
   "codemirror_mode": {
    "name": "ipython",
    "version": 3
   },
   "file_extension": ".py",
   "mimetype": "text/x-python",
   "name": "python",
   "nbconvert_exporter": "python",
   "pygments_lexer": "ipython3",
   "version": "3.8.3"
  }
 },
 "nbformat": 4,
 "nbformat_minor": 4
}
